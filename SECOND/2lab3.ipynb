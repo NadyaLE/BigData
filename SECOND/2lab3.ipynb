{
 "cells": [
  {
   "cell_type": "code",
   "execution_count": 5,
   "metadata": {},
   "outputs": [
    {
     "name": "stdout",
     "output_type": "stream",
     "text": [
      "1) Mean: 474.35\n",
      "2) Median: 460.0\n",
      "3) Std: 169.23\n",
      "4) Cov: -48.6186\n",
      "5) Corr: -0.0146\n"
     ]
    }
   ],
   "source": [
    "import os\n",
    "import pandas as pd\n",
    "import numpy as np\n",
    "\n",
    "\n",
    "def main():\n",
    "    FirstSample = pd.Series([428, 300, 250, 578, 492, 204, 245, 420, 760, 363, 600, 483, 711, 265,\n",
    "                              572, 350, 652, 460, 340, 670, 565, 750, 452])\n",
    "    Task_1(FirstSample)\n",
    "    Task_2(FirstSample)\n",
    "    Task_3(FirstSample)\n",
    "    SeriesX = pd.Series([428, 300, 250, 578, 492, 204, 245, 420, 760, 363, 600, 483, 711, 265, 572,\n",
    "                          350, 652, 460, 340, 670, 565, 750, 452])\n",
    "    SeriesY = pd.Series([21, 33, 43, 71, 85, 17, 38, 43, 53, 76, 33, 16, 24, 59, 65, 73, 45, 63, 53, 43,\n",
    "                          58, 28, 37])\n",
    "    Task_4(SeriesX, SeriesY)\n",
    "    Task_5(SeriesX, SeriesY)\n",
    "\n",
    "\n",
    "def Task_1(value):\n",
    "    print('1) Mean: {0:.{1}f}'.format(value.mean(), 2))\n",
    "\n",
    "def Task_2(value):\n",
    "    print(f'2) Median: {value.median()}')\n",
    "\n",
    "def Task_3(value):\n",
    "    print('3) Std: {0:.{1}f}'.format(value.std(), 2))\n",
    "\n",
    "def Task_4(x, y):\n",
    "    print('4) Cov: {0:.{1}f}'.format(x.cov(y), 4))\n",
    "\n",
    "def Task_5(x, y):\n",
    "    print('5) Corr: {0:.{1}f}'.format(x.corr(y), 4))\n",
    "\n",
    "\n",
    "if __name__ == '__main__':\n",
    "    main()\n"
   ]
  },
  {
   "cell_type": "code",
   "execution_count": null,
   "metadata": {},
   "outputs": [],
   "source": []
  },
  {
   "cell_type": "code",
   "execution_count": null,
   "metadata": {},
   "outputs": [],
   "source": []
  }
 ],
 "metadata": {
  "kernelspec": {
   "display_name": "Python 3",
   "language": "python",
   "name": "python3"
  },
  "language_info": {
   "codemirror_mode": {
    "name": "ipython",
    "version": 3
   },
   "file_extension": ".py",
   "mimetype": "text/x-python",
   "name": "python",
   "nbconvert_exporter": "python",
   "pygments_lexer": "ipython3",
   "version": "3.8.5"
  }
 },
 "nbformat": 4,
 "nbformat_minor": 4
}
